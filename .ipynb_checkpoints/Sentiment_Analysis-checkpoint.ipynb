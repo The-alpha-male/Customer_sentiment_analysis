{
 "cells": [
  {
   "cell_type": "code",
   "execution_count": 5,
   "id": "27bb0900-c4c9-4eb1-999f-d87235f7a153",
   "metadata": {},
   "outputs": [],
   "source": [
    "# Import modules\n",
    "import requests\n",
    "from bs4 import BeautifulSoup\n",
    "import nltk\n",
    "import pandas as pd\n",
    "import numpy as np\n",
    "import seaborn as sn\n",
    "import csv\n",
    "import matplotlib.pyplot as plt"
   ]
  },
  {
   "cell_type": "markdown",
   "id": "a69137eb-1b6b-47ca-a71d-d936788ed5d2",
   "metadata": {},
   "source": [
    "I am using Jumia's link to get customer reviews and comments about Starlink . [Click here](https://www.jumia.co.ke/catalog/productratingsreviews/sku/BR269EA1PRKULNAFAMZ/) to get the link"
   ]
  },
  {
   "cell_type": "code",
   "execution_count": null,
   "id": "d98d7dcd-179f-473b-9849-8611563e5281",
   "metadata": {},
   "outputs": [],
   "source": [
    "# To extract reviews from multiple pages\n",
    "all_reviews = []\n",
    "for page_num in range(1, 3):\n",
    "\n",
    "    # Url to get the reviews\n",
    "    url_source = 'https://www.jumia.co.ke/catalog/productratingsreviews/sku/BR269EA1PRKULNAFAMZ/?page={page_num}'\n",
    "    url = url_source.format(page_num=page_num)\n",
    "    r = requests.get(url)\n",
    "\n",
    "    # Extract data using BeautfifulSoup\n",
    "    soup = BeautifulSoup(r.content, 'lxml')\n",
    "\n",
    "    # Extract the reviews\n",
    "    reviews = soup.find_all('p',{'class':\"\"})\n",
    "    div_reviews = soup.find_all('div',{'class':\"\"})\n",
    "\n",
    "\n",
    "\n",
    "    # To add the reviews of the next page one after the other \n",
    "    review2 = ''\n",
    "    for review in reviews:\n",
    "        review2 += review.text.strip() + '\\n'\n",
    "    \n",
    "    for div_review in div_reviews:\n",
    "        review2 += div_review.text.strip() + '\\n'   \n",
    "    all_reviews.append(review2)\n",
    "\n",
    "print(all_reviews)\n",
    "\n",
    "    "
   ]
  }
 ],
 "metadata": {
  "kernelspec": {
   "display_name": "Python 3 (ipykernel)",
   "language": "python",
   "name": "python3"
  },
  "language_info": {
   "codemirror_mode": {
    "name": "ipython",
    "version": 3
   },
   "file_extension": ".py",
   "mimetype": "text/x-python",
   "name": "python",
   "nbconvert_exporter": "python",
   "pygments_lexer": "ipython3",
   "version": "3.12.3"
  }
 },
 "nbformat": 4,
 "nbformat_minor": 5
}
