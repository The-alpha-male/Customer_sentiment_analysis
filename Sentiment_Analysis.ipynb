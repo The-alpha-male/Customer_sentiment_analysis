{
 "cells": [
  {
   "cell_type": "code",
   "execution_count": 6,
   "id": "27bb0900-c4c9-4eb1-999f-d87235f7a153",
   "metadata": {},
   "outputs": [],
   "source": [
    "# Import modules\n",
    "import requests\n",
    "from bs4 import BeautifulSoup\n",
    "import nltk\n",
    "import pandas as pd\n",
    "import numpy as np\n",
    "import seaborn as sn\n",
    "import csv\n",
    "import matplotlib.pyplot as plt"
   ]
  },
  {
   "cell_type": "markdown",
   "id": "a69137eb-1b6b-47ca-a71d-d936788ed5d2",
   "metadata": {},
   "source": [
    "I am using Jumia's link to get customer reviews and comments about Starlink . [Click here](https://www.jumia.co.ke/catalog/productratingsreviews/sku/BR269EA1PRKULNAFAMZ/) to get the link"
   ]
  },
  {
   "cell_type": "code",
   "execution_count": 15,
   "id": "d98d7dcd-179f-473b-9849-8611563e5281",
   "metadata": {},
   "outputs": [
    {
     "name": "stdout",
     "output_type": "stream",
     "text": [
      "Fetching page: https://www.jumia.co.ke/catalog/productratingsreviews/sku/BR269EA1PRKULNAFAMZ/?page=1\n",
      "Found 10 reviews on page 1.\n",
      "Fetching page: https://www.jumia.co.ke/catalog/productratingsreviews/sku/BR269EA1PRKULNAFAMZ/?page=2\n",
      "Found 10 reviews on page 2.\n",
      "Fetching page: https://www.jumia.co.ke/catalog/productratingsreviews/sku/BR269EA1PRKULNAFAMZ/?page=3\n",
      "Found 10 reviews on page 3.\n",
      "Fetching page: https://www.jumia.co.ke/catalog/productratingsreviews/sku/BR269EA1PRKULNAFAMZ/?page=4\n",
      "Found 10 reviews on page 4.\n",
      "Fetching page: https://www.jumia.co.ke/catalog/productratingsreviews/sku/BR269EA1PRKULNAFAMZ/?page=5\n",
      "Found 10 reviews on page 5.\n",
      "Fetching page: https://www.jumia.co.ke/catalog/productratingsreviews/sku/BR269EA1PRKULNAFAMZ/?page=6\n",
      "Found 10 reviews on page 6.\n",
      "Fetching page: https://www.jumia.co.ke/catalog/productratingsreviews/sku/BR269EA1PRKULNAFAMZ/?page=7\n",
      "Found 10 reviews on page 7.\n",
      "Fetching page: https://www.jumia.co.ke/catalog/productratingsreviews/sku/BR269EA1PRKULNAFAMZ/?page=8\n",
      "Found 10 reviews on page 8.\n",
      "Fetching page: https://www.jumia.co.ke/catalog/productratingsreviews/sku/BR269EA1PRKULNAFAMZ/?page=9\n",
      "Found 9 reviews on page 9.\n"
     ]
    }
   ],
   "source": [
    "# To extract reviews from multiple pages\n",
    "all_reviews = []\n",
    "for page_num in range(1, 10):\n",
    "    # Format and print the URL to check correctness\n",
    "    url_source = 'https://www.jumia.co.ke/catalog/productratingsreviews/sku/BR269EA1PRKULNAFAMZ/?page={page_num}'\n",
    "    url = url_source.format(page_num=page_num)\n",
    "    print(f\"Fetching page: {url}\")\n",
    "    \n",
    "    # Send the request and check status\n",
    "    r = requests.get(url)\n",
    "    if r.status_code != 200:\n",
    "        print(f\"Failed to fetch page {page_num}, status code: {r.status_code}\")\n",
    "        continue\n",
    "\n",
    "    # Extract data using BeautifulSoup\n",
    "    soup = BeautifulSoup(r.content, 'lxml')\n",
    "\n",
    "    # Extract the reviews\n",
    "    reviews = soup.find_all('p', {'class': \"-pvs\"})\n",
    "    div_reviews = soup.find_all('div', {'class': \"-m -fs16 -pvs\"})\n",
    "\n",
    "    # Check if reviews were found\n",
    "    if not reviews and not div_reviews:\n",
    "        print(f\"No reviews found on page {page_num}.\")\n",
    "    else:\n",
    "        print(f\"Found {len(reviews) + len(div_reviews)} reviews on page {page_num}.\")\n",
    "\n",
    "    # Add each review to all_reviews\n",
    "    for review in reviews:\n",
    "        all_reviews.append(review.text.strip())\n",
    "    \n",
    "    for div_review in div_reviews:\n",
    "        all_reviews.append(div_review.text.strip())"
   ]
  },
  {
   "cell_type": "code",
   "execution_count": 16,
   "id": "68c40e7c-5a37-4d92-9e25-02ec233a6eb0",
   "metadata": {},
   "outputs": [
    {
     "name": "stdout",
     "output_type": "stream",
     "text": [
      "Reviews saved to 'jumia_reviews.csv'\n"
     ]
    }
   ],
   "source": [
    "# Save reviews to CSV\n",
    "if all_reviews:\n",
    "    with open('jumia_reviews.csv', 'w', newline='', encoding='utf-8') as file:\n",
    "        writer = csv.writer(file)\n",
    "        writer.writerow(['Review'])  # Header row\n",
    "        for review in all_reviews:\n",
    "            writer.writerow([review])  # Write each review on a new row\n",
    "    print(\"Reviews saved to 'jumia_reviews.csv'\")\n",
    "else:\n",
    "    print(\"No reviews to save.\")"
   ]
  },
  {
   "cell_type": "code",
   "execution_count": null,
   "id": "85ea2be4-ed84-4525-9bcf-149d54e16024",
   "metadata": {},
   "outputs": [],
   "source": []
  }
 ],
 "metadata": {
  "kernelspec": {
   "display_name": "Python 3 (ipykernel)",
   "language": "python",
   "name": "python3"
  },
  "language_info": {
   "codemirror_mode": {
    "name": "ipython",
    "version": 3
   },
   "file_extension": ".py",
   "mimetype": "text/x-python",
   "name": "python",
   "nbconvert_exporter": "python",
   "pygments_lexer": "ipython3",
   "version": "3.12.3"
  }
 },
 "nbformat": 4,
 "nbformat_minor": 5
}
